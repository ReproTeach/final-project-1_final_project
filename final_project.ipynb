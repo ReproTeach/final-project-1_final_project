{
 "cells": [
  {
   "cell_type": "markdown",
   "id": "8b750025-903e-443c-a7d2-2198a797cd7d",
   "metadata": {},
   "source": [
    "# Reddit Influences Perceptions of COVID-19 Vaccination\n",
    "\n",
    "- Yuenji Lee"
   ]
  },
  {
   "cell_type": "markdown",
   "id": "fbd20cd7-4fa2-4738-952b-f5c5b96afb70",
   "metadata": {
    "tags": []
   },
   "source": [
    "## Introduction\n",
    "This project analyzes posts and comments on a *Reddit* thread to see whether Reddit influences public opinions about COVID-19 vaccination during the pandemic by sharing unproved myths about COVID-19 vaccine --*\"Did Reddit posts about COVID-19 vaccine myths affect the public (not)to get vaccinated?\"* Focusing on the central inquiry, we explore the following two research questions in this project:"
   ]
  },
  {
   "cell_type": "markdown",
   "id": "f10110f4-527e-4887-a593-b9a152c19149",
   "metadata": {},
   "source": [
    "**Research Question 1** Does the *tone* of Reddit comments impact the public's inclination towards COVID-19 vaccination?\n",
    "\n",
    "**Research Question 2** Does the *context* of the posts and comments influence the public's perspective on getting vaccinated?"
   ]
  },
  {
   "cell_type": "markdown",
   "id": "88ed2a44-09a5-4796-b348-55af341a79a3",
   "metadata": {
    "tags": []
   },
   "source": [
    "## Dataset Description\n",
    "The dataset `reddit_vm.csv` is a set of Reddit posts from subreddit **VaccinMyths**. This dataset is a collection of posts and comments on the subreddit VaccineMyths in which Reddit users shared their beliefs about any type of vaccines. Each column represents:\n",
    "- `title` - relevant for posts\n",
    "- `score` - based on impact, number of comments (relevant for posts)\n",
    "- `id` - unique id for posts/comments\n",
    "- `url` - url of post thread (relevant for posts)\n",
    "- `commns_num` - number of comments to this post (relevant for post) \n",
    "- `created` - date of creation\n",
    "- `body` - text of the post or comment (relevant for posts/comments)\n",
    "- `timestamp` - timestamp"
   ]
  },
  {
   "cell_type": "code",
   "execution_count": 1,
   "id": "a56bd132-b1a2-43d5-9f2b-fbd8a6c68a08",
   "metadata": {
    "tags": []
   },
   "outputs": [
    {
     "name": "stdout",
     "output_type": "stream",
     "text": [
      "Requirement already satisfied: nltk in /opt/conda/lib/python3.10/site-packages (3.8.1)\n",
      "Requirement already satisfied: click in /home/jovyan/.local/lib/python3.10/site-packages (from nltk) (8.1.3)\n",
      "Requirement already satisfied: joblib in /opt/conda/lib/python3.10/site-packages (from nltk) (1.2.0)\n",
      "Requirement already satisfied: tqdm in /opt/conda/lib/python3.10/site-packages (from nltk) (4.65.0)\n",
      "Requirement already satisfied: regex>=2021.8.3 in /home/jovyan/.local/lib/python3.10/site-packages (from nltk) (2023.5.5)\n",
      "Requirement already satisfied: textblob in /opt/conda/lib/python3.10/site-packages (0.17.1)\n",
      "Requirement already satisfied: nltk>=3.1 in /opt/conda/lib/python3.10/site-packages (from textblob) (3.8.1)\n",
      "Requirement already satisfied: joblib in /opt/conda/lib/python3.10/site-packages (from nltk>=3.1->textblob) (1.2.0)\n",
      "Requirement already satisfied: regex>=2021.8.3 in /home/jovyan/.local/lib/python3.10/site-packages (from nltk>=3.1->textblob) (2023.5.5)\n",
      "Requirement already satisfied: tqdm in /opt/conda/lib/python3.10/site-packages (from nltk>=3.1->textblob) (4.65.0)\n",
      "Requirement already satisfied: click in /home/jovyan/.local/lib/python3.10/site-packages (from nltk>=3.1->textblob) (8.1.3)\n"
     ]
    }
   ],
   "source": [
    "import pandas as pd\n",
    "import re\n",
    "import seaborn as sns\n",
    "import matplotlib.pyplot as plt\n",
    "!pip install nltk\n",
    "import nltk\n",
    "from nltk.collocations import BigramCollocationFinder\n",
    "from nltk.metrics import BigramAssocMeasures\n",
    "import string\n",
    "from nltk.corpus import stopwords\n",
    "from nltk.stem import WordNetLemmatizer\n",
    "from nltk.tokenize import word_tokenize\n",
    "from nltk.sentiment import SentimentIntensityAnalyzer\n",
    "!pip install textblob"
   ]
  },
  {
   "cell_type": "code",
   "execution_count": 2,
   "id": "283f4f84-e590-4e20-82de-76aecec17900",
   "metadata": {
    "tags": []
   },
   "outputs": [
    {
     "data": {
      "text/html": [
       "<div>\n",
       "<style scoped>\n",
       "    .dataframe tbody tr th:only-of-type {\n",
       "        vertical-align: middle;\n",
       "    }\n",
       "\n",
       "    .dataframe tbody tr th {\n",
       "        vertical-align: top;\n",
       "    }\n",
       "\n",
       "    .dataframe thead th {\n",
       "        text-align: right;\n",
       "    }\n",
       "</style>\n",
       "<table border=\"1\" class=\"dataframe\">\n",
       "  <thead>\n",
       "    <tr style=\"text-align: right;\">\n",
       "      <th></th>\n",
       "      <th>title</th>\n",
       "      <th>score</th>\n",
       "      <th>id</th>\n",
       "      <th>url</th>\n",
       "      <th>comms_num</th>\n",
       "      <th>created</th>\n",
       "      <th>body</th>\n",
       "      <th>timestamp</th>\n",
       "    </tr>\n",
       "  </thead>\n",
       "  <tbody>\n",
       "    <tr>\n",
       "      <th>0</th>\n",
       "      <td>Health Canada approves AstraZeneca COVID-19 va...</td>\n",
       "      <td>7</td>\n",
       "      <td>lt74vw</td>\n",
       "      <td>https://www.canadaforums.ca/2021/02/health-can...</td>\n",
       "      <td>0</td>\n",
       "      <td>1.614400e+09</td>\n",
       "      <td>NaN</td>\n",
       "      <td>2021-02-27 06:33:45</td>\n",
       "    </tr>\n",
       "    <tr>\n",
       "      <th>1</th>\n",
       "      <td>COVID-19 in Canada: 'Vaccination passports' a ...</td>\n",
       "      <td>2</td>\n",
       "      <td>lsh0ij</td>\n",
       "      <td>https://www.canadaforums.ca/2021/02/covid-19-i...</td>\n",
       "      <td>1</td>\n",
       "      <td>1.614316e+09</td>\n",
       "      <td>NaN</td>\n",
       "      <td>2021-02-26 07:11:07</td>\n",
       "    </tr>\n",
       "    <tr>\n",
       "      <th>2</th>\n",
       "      <td>Coronavirus variants could fuel Canada's third...</td>\n",
       "      <td>6</td>\n",
       "      <td>lohlle</td>\n",
       "      <td>https://www.canadaforums.ca/2021/02/coronaviru...</td>\n",
       "      <td>0</td>\n",
       "      <td>1.613887e+09</td>\n",
       "      <td>NaN</td>\n",
       "      <td>2021-02-21 07:50:08</td>\n",
       "    </tr>\n",
       "    <tr>\n",
       "      <th>3</th>\n",
       "      <td>Canadian government to extend COVID-19 emergen...</td>\n",
       "      <td>1</td>\n",
       "      <td>lnptv8</td>\n",
       "      <td>https://www.canadaforums.ca/2021/02/canadian-g...</td>\n",
       "      <td>0</td>\n",
       "      <td>1.613796e+09</td>\n",
       "      <td>NaN</td>\n",
       "      <td>2021-02-20 06:35:13</td>\n",
       "    </tr>\n",
       "    <tr>\n",
       "      <th>4</th>\n",
       "      <td>Canada: Pfizer is 'extremely committed' to mee...</td>\n",
       "      <td>6</td>\n",
       "      <td>lkslm6</td>\n",
       "      <td>https://www.canadaforums.ca/2021/02/canada-pfi...</td>\n",
       "      <td>0</td>\n",
       "      <td>1.613468e+09</td>\n",
       "      <td>NaN</td>\n",
       "      <td>2021-02-16 11:36:28</td>\n",
       "    </tr>\n",
       "  </tbody>\n",
       "</table>\n",
       "</div>"
      ],
      "text/plain": [
       "                                               title  score      id  \\\n",
       "0  Health Canada approves AstraZeneca COVID-19 va...      7  lt74vw   \n",
       "1  COVID-19 in Canada: 'Vaccination passports' a ...      2  lsh0ij   \n",
       "2  Coronavirus variants could fuel Canada's third...      6  lohlle   \n",
       "3  Canadian government to extend COVID-19 emergen...      1  lnptv8   \n",
       "4  Canada: Pfizer is 'extremely committed' to mee...      6  lkslm6   \n",
       "\n",
       "                                                 url  comms_num       created  \\\n",
       "0  https://www.canadaforums.ca/2021/02/health-can...          0  1.614400e+09   \n",
       "1  https://www.canadaforums.ca/2021/02/covid-19-i...          1  1.614316e+09   \n",
       "2  https://www.canadaforums.ca/2021/02/coronaviru...          0  1.613887e+09   \n",
       "3  https://www.canadaforums.ca/2021/02/canadian-g...          0  1.613796e+09   \n",
       "4  https://www.canadaforums.ca/2021/02/canada-pfi...          0  1.613468e+09   \n",
       "\n",
       "  body            timestamp  \n",
       "0  NaN  2021-02-27 06:33:45  \n",
       "1  NaN  2021-02-26 07:11:07  \n",
       "2  NaN  2021-02-21 07:50:08  \n",
       "3  NaN  2021-02-20 06:35:13  \n",
       "4  NaN  2021-02-16 11:36:28  "
      ]
     },
     "execution_count": 2,
     "metadata": {},
     "output_type": "execute_result"
    }
   ],
   "source": [
    "df = pd.read_csv(\"reddit_vm.csv\")\n",
    "df.head()"
   ]
  },
  {
   "cell_type": "code",
   "execution_count": 3,
   "id": "36fff66c-2468-4be5-a7e5-d6527803e820",
   "metadata": {
    "tags": []
   },
   "outputs": [
    {
     "data": {
      "text/html": [
       "<div>\n",
       "<style scoped>\n",
       "    .dataframe tbody tr th:only-of-type {\n",
       "        vertical-align: middle;\n",
       "    }\n",
       "\n",
       "    .dataframe tbody tr th {\n",
       "        vertical-align: top;\n",
       "    }\n",
       "\n",
       "    .dataframe thead th {\n",
       "        text-align: right;\n",
       "    }\n",
       "</style>\n",
       "<table border=\"1\" class=\"dataframe\">\n",
       "  <thead>\n",
       "    <tr style=\"text-align: right;\">\n",
       "      <th></th>\n",
       "      <th>score</th>\n",
       "      <th>comms_num</th>\n",
       "      <th>created</th>\n",
       "    </tr>\n",
       "  </thead>\n",
       "  <tbody>\n",
       "    <tr>\n",
       "      <th>count</th>\n",
       "      <td>1602.000000</td>\n",
       "      <td>1602.000000</td>\n",
       "      <td>1.602000e+03</td>\n",
       "    </tr>\n",
       "    <tr>\n",
       "      <th>mean</th>\n",
       "      <td>3.686642</td>\n",
       "      <td>1.838951</td>\n",
       "      <td>1.547197e+09</td>\n",
       "    </tr>\n",
       "    <tr>\n",
       "      <th>std</th>\n",
       "      <td>29.915671</td>\n",
       "      <td>16.115147</td>\n",
       "      <td>7.099511e+07</td>\n",
       "    </tr>\n",
       "    <tr>\n",
       "      <th>min</th>\n",
       "      <td>-12.000000</td>\n",
       "      <td>0.000000</td>\n",
       "      <td>1.389595e+09</td>\n",
       "    </tr>\n",
       "    <tr>\n",
       "      <th>25%</th>\n",
       "      <td>1.000000</td>\n",
       "      <td>0.000000</td>\n",
       "      <td>1.554367e+09</td>\n",
       "    </tr>\n",
       "    <tr>\n",
       "      <th>50%</th>\n",
       "      <td>1.000000</td>\n",
       "      <td>0.000000</td>\n",
       "      <td>1.569226e+09</td>\n",
       "    </tr>\n",
       "    <tr>\n",
       "      <th>75%</th>\n",
       "      <td>3.000000</td>\n",
       "      <td>1.000000</td>\n",
       "      <td>1.584901e+09</td>\n",
       "    </tr>\n",
       "    <tr>\n",
       "      <th>max</th>\n",
       "      <td>1187.000000</td>\n",
       "      <td>595.000000</td>\n",
       "      <td>1.640822e+09</td>\n",
       "    </tr>\n",
       "  </tbody>\n",
       "</table>\n",
       "</div>"
      ],
      "text/plain": [
       "             score    comms_num       created\n",
       "count  1602.000000  1602.000000  1.602000e+03\n",
       "mean      3.686642     1.838951  1.547197e+09\n",
       "std      29.915671    16.115147  7.099511e+07\n",
       "min     -12.000000     0.000000  1.389595e+09\n",
       "25%       1.000000     0.000000  1.554367e+09\n",
       "50%       1.000000     0.000000  1.569226e+09\n",
       "75%       3.000000     1.000000  1.584901e+09\n",
       "max    1187.000000   595.000000  1.640822e+09"
      ]
     },
     "execution_count": 3,
     "metadata": {},
     "output_type": "execute_result"
    }
   ],
   "source": [
    "df.describe()"
   ]
  },
  {
   "cell_type": "markdown",
   "id": "dfadc4b9-00b1-4081-8f59-76470a882e62",
   "metadata": {},
   "source": [
    "While we are focusing on the context of COVID-19, we will **only analyze the data from 2019**.\n",
    "As illustrated below, the posts and comments were in the highest volume in the year 2019. \n",
    "I will only extract the data from 2019 and use them for the further analysis."
   ]
  },
  {
   "cell_type": "code",
   "execution_count": 4,
   "id": "fe2ae31d-aa24-44b1-b19d-6801aedd680e",
   "metadata": {
    "tags": []
   },
   "outputs": [
    {
     "name": "stdout",
     "output_type": "stream",
     "text": [
      "      title  score       id  url  comms_num       created  \\\n",
      "6   Comment      1  ej9x066  NaN          0  1.553474e+09   \n",
      "9   Comment      0  ej9xuaf  NaN          0  1.553475e+09   \n",
      "10  Comment      1  ej9x2qr  NaN          0  1.553474e+09   \n",
      "11  Comment      2  ejacj98  NaN          0  1.553486e+09   \n",
      "12  Comment      2  ejabpdx  NaN          0  1.553485e+09   \n",
      "\n",
      "                                                 body           timestamp  \n",
      "6   Your OP. It's not a myth. Only one vaccine con... 2019-03-25 02:34:53  \n",
      "9   What do you mean by \"your OP\". I am fairly new... 2019-03-25 02:45:21  \n",
      "10  When they say there's no thimerasol, they mean... 2019-03-25 02:35:47  \n",
      "11  The \"myth\" you're debunking is in regards to t... 2019-03-25 05:50:20  \n",
      "12  You'll have to read it again because I didn't ... 2019-03-25 05:40:03  \n"
     ]
    }
   ],
   "source": [
    "df['timestamp'] = pd.to_datetime(df['timestamp'])\n",
    "\n",
    "# Filter the data for the year 2019\n",
    "df_2019 = df[df['timestamp'].dt.year == 2019]\n",
    "\n",
    "# Print the data for the year 2019\n",
    "print(df_2019.head())"
   ]
  },
  {
   "cell_type": "code",
   "execution_count": 5,
   "id": "5009223b-643f-4566-839c-fb8c558a76ee",
   "metadata": {
    "tags": []
   },
   "outputs": [
    {
     "data": {
      "image/png": "[encoded data removed]",
      "text/plain": [
       "<Figure size 640x480 with 1 Axes>"
      ]
     },
     "metadata": {},
     "output_type": "display_data"
    }
   ],
   "source": [
    "df['year_published'] = df['timestamp'].dt.year\n",
    "data_count = df['year_published'].value_counts().sort_index()\n",
    "\n",
    "default_color = 'green'\n",
    "specific_year_color = 'pink'\n",
    "\n",
    "# Create the bar graph with default color\n",
    "plt.bar(data_count.index, data_count.values, color=default_color)\n",
    "plt.bar(2019, data_count[2019], color=specific_year_color)\n",
    "\n",
    "plt.xlabel('Year Published')\n",
    "plt.ylabel('Data Count')\n",
    "plt.title('Data Distribution by Year Published')\n",
    "\n",
    "plt.show()"
   ]
  },
  {
   "cell_type": "markdown",
   "id": "faa76368-97f4-457d-9048-1a85fb136e28",
   "metadata": {},
   "source": [
    "## Preprocessing\n",
    "It is important to make the text machine friendly before analysis. Hence, we'll apply the following steps to preprocess the text: \n",
    "\n",
    "1. Drop unncessary data\n",
    "2. Tokenization\n",
    "3. Remove stop words\n",
    "4. Lemmatization"
   ]
  },
  {
   "cell_type": "markdown",
   "id": "a65cc65c-3fe9-4f09-b917-d2713e978ac0",
   "metadata": {},
   "source": [
    "### 1. Drop Unnecessary Data\n",
    "To ensure the data contains only relevant information, we will remove any non-essential or duplicate data. The following fields will be dropped: `id`, `url`, and `created`. Since `created` duplicates the information in `timestamp`, we will exclude it from the analysis."
   ]
  },
  {
   "cell_type": "code",
   "execution_count": 6,
   "id": "4b4ef483-2bd6-494e-9ed5-95ec43656a38",
   "metadata": {
    "tags": []
   },
   "outputs": [
    {
     "name": "stderr",
     "output_type": "stream",
     "text": [
      "/tmp/ipykernel_3058/1059033886.py:1: SettingWithCopyWarning: \n",
      "A value is trying to be set on a copy of a slice from a DataFrame\n",
      "\n",
      "See the caveats in the documentation: https://pandas.pydata.org/pandas-docs/stable/user_guide/indexing.html#returning-a-view-versus-a-copy\n",
      "  df_2019.dropna(inplace=True)\n",
      "/tmp/ipykernel_3058/1059033886.py:3: UserWarning: Boolean Series key will be reindexed to match DataFrame index.\n",
      "  df_2019[df.duplicated()]\n",
      "/tmp/ipykernel_3058/1059033886.py:4: SettingWithCopyWarning: \n",
      "A value is trying to be set on a copy of a slice from a DataFrame\n",
      "\n",
      "See the caveats in the documentation: https://pandas.pydata.org/pandas-docs/stable/user_guide/indexing.html#returning-a-view-versus-a-copy\n",
      "  df_2019.drop_duplicates(inplace=True)\n",
      "/tmp/ipykernel_3058/1059033886.py:6: SettingWithCopyWarning: \n",
      "A value is trying to be set on a copy of a slice from a DataFrame\n",
      "\n",
      "See the caveats in the documentation: https://pandas.pydata.org/pandas-docs/stable/user_guide/indexing.html#returning-a-view-versus-a-copy\n",
      "  df_2019.drop(columns=['id', 'url', 'created'], inplace=True)\n"
     ]
    },
    {
     "data": {
      "text/html": [
       "<div>\n",
       "<style scoped>\n",
       "    .dataframe tbody tr th:only-of-type {\n",
       "        vertical-align: middle;\n",
       "    }\n",
       "\n",
       "    .dataframe tbody tr th {\n",
       "        vertical-align: top;\n",
       "    }\n",
       "\n",
       "    .dataframe thead th {\n",
       "        text-align: right;\n",
       "    }\n",
       "</style>\n",
       "<table border=\"1\" class=\"dataframe\">\n",
       "  <thead>\n",
       "    <tr style=\"text-align: right;\">\n",
       "      <th></th>\n",
       "      <th>title</th>\n",
       "      <th>score</th>\n",
       "      <th>comms_num</th>\n",
       "      <th>body</th>\n",
       "      <th>timestamp</th>\n",
       "    </tr>\n",
       "  </thead>\n",
       "  <tbody>\n",
       "    <tr>\n",
       "      <th>145</th>\n",
       "      <td>Vaccine Survey</td>\n",
       "      <td>0</td>\n",
       "      <td>5</td>\n",
       "      <td>Hi guys! I was wondering if you could help me ...</td>\n",
       "      <td>2019-01-27 00:42:09</td>\n",
       "    </tr>\n",
       "    <tr>\n",
       "      <th>171</th>\n",
       "      <td>Do live vaccines shed?</td>\n",
       "      <td>5</td>\n",
       "      <td>10</td>\n",
       "      <td>After you get a live vaccine do you need to st...</td>\n",
       "      <td>2019-11-26 20:38:14</td>\n",
       "    </tr>\n",
       "    <tr>\n",
       "      <th>256</th>\n",
       "      <td>A mom friend is excited her kids got chicken pox</td>\n",
       "      <td>9</td>\n",
       "      <td>5</td>\n",
       "      <td>I posted this on the antivaxxers too because I...</td>\n",
       "      <td>2019-11-25 21:34:13</td>\n",
       "    </tr>\n",
       "    <tr>\n",
       "      <th>258</th>\n",
       "      <td>Anti-Vax Nurse?!</td>\n",
       "      <td>7</td>\n",
       "      <td>27</td>\n",
       "      <td>Sorry if this is the wrong sub, but I don’t kn...</td>\n",
       "      <td>2019-11-15 22:29:12</td>\n",
       "    </tr>\n",
       "    <tr>\n",
       "      <th>259</th>\n",
       "      <td>Need help with an anti-vaxxer on Reddit</td>\n",
       "      <td>6</td>\n",
       "      <td>32</td>\n",
       "      <td>Hi all.\\n\\nThey’re saying things like double-b...</td>\n",
       "      <td>2019-11-09 11:49:39</td>\n",
       "    </tr>\n",
       "  </tbody>\n",
       "</table>\n",
       "</div>"
      ],
      "text/plain": [
       "                                                title  score  comms_num  \\\n",
       "145                                    Vaccine Survey      0          5   \n",
       "171                            Do live vaccines shed?      5         10   \n",
       "256  A mom friend is excited her kids got chicken pox      9          5   \n",
       "258                                  Anti-Vax Nurse?!      7         27   \n",
       "259           Need help with an anti-vaxxer on Reddit      6         32   \n",
       "\n",
       "                                                  body           timestamp  \n",
       "145  Hi guys! I was wondering if you could help me ... 2019-01-27 00:42:09  \n",
       "171  After you get a live vaccine do you need to st... 2019-11-26 20:38:14  \n",
       "256  I posted this on the antivaxxers too because I... 2019-11-25 21:34:13  \n",
       "258  Sorry if this is the wrong sub, but I don’t kn... 2019-11-15 22:29:12  \n",
       "259  Hi all.\\n\\nThey’re saying things like double-b... 2019-11-09 11:49:39  "
      ]
     },
     "execution_count": 6,
     "metadata": {},
     "output_type": "execute_result"
    }
   ],
   "source": [
    "df_2019.dropna(inplace=True)\n",
    "\n",
    "df_2019[df.duplicated()]\n",
    "df_2019.drop_duplicates(inplace=True)\n",
    "\n",
    "df_2019.drop(columns=['id', 'url', 'created'], inplace=True)\n",
    "df_2019.head()"
   ]
  },
  {
   "cell_type": "markdown",
   "id": "ff9728e6-0af7-4ca4-b4eb-3d2c4bb370bc",
   "metadata": {},
   "source": [
    "### 2. Tokenization\n",
    "By splitting a text into smaller units(tokens), we make the data more concise."
   ]
  },
  {
   "cell_type": "code",
   "execution_count": 7,
   "id": "d3970e72-e0da-43d8-9b24-8f6bc1dea0a2",
   "metadata": {
    "tags": []
   },
   "outputs": [
    {
     "name": "stderr",
     "output_type": "stream",
     "text": [
      "/tmp/ipykernel_3058/3104133768.py:1: SettingWithCopyWarning: \n",
      "A value is trying to be set on a copy of a slice from a DataFrame.\n",
      "Try using .loc[row_indexer,col_indexer] = value instead\n",
      "\n",
      "See the caveats in the documentation: https://pandas.pydata.org/pandas-docs/stable/user_guide/indexing.html#returning-a-view-versus-a-copy\n",
      "  df_2019['body'] = df_2019['body'].apply(word_tokenize)\n"
     ]
    }
   ],
   "source": [
    "df_2019['body'] = df_2019['body'].apply(word_tokenize)"
   ]
  },
  {
   "cell_type": "markdown",
   "id": "f72c0b3d-5cc6-473d-b9f3-1a01444c7db0",
   "metadata": {},
   "source": [
    "### 3. Remove Stop Words\n",
    "Stopwords are common words that don't carry much meaning which are not needed for the analysis."
   ]
  },
  {
   "cell_type": "code",
   "execution_count": 8,
   "id": "a6fbcd51-ab48-44b6-b26f-0474fb07a0b9",
   "metadata": {
    "tags": []
   },
   "outputs": [
    {
     "name": "stderr",
     "output_type": "stream",
     "text": [
      "/tmp/ipykernel_3058/3401962272.py:2: SettingWithCopyWarning: \n",
      "A value is trying to be set on a copy of a slice from a DataFrame.\n",
      "Try using .loc[row_indexer,col_indexer] = value instead\n",
      "\n",
      "See the caveats in the documentation: https://pandas.pydata.org/pandas-docs/stable/user_guide/indexing.html#returning-a-view-versus-a-copy\n",
      "  df_2019['body'] = df_2019['body'].apply(lambda x: [word for word in x if word not in stopwords_list])\n"
     ]
    }
   ],
   "source": [
    "stopwords_list = set(stopwords.words('english'))\n",
    "df_2019['body'] = df_2019['body'].apply(lambda x: [word for word in x if word not in stopwords_list])"
   ]
  },
  {
   "cell_type": "code",
   "execution_count": 9,
   "id": "c25b6d95-83b5-4b45-92e0-ede81562701a",
   "metadata": {
    "tags": []
   },
   "outputs": [
    {
     "name": "stderr",
     "output_type": "stream",
     "text": [
      "/tmp/ipykernel_3058/1593397030.py:12: SettingWithCopyWarning: \n",
      "A value is trying to be set on a copy of a slice from a DataFrame.\n",
      "Try using .loc[row_indexer,col_indexer] = value instead\n",
      "\n",
      "See the caveats in the documentation: https://pandas.pydata.org/pandas-docs/stable/user_guide/indexing.html#returning-a-view-versus-a-copy\n",
      "  df_2019['body'] = df_2019['body'].apply(clean_text)\n"
     ]
    }
   ],
   "source": [
    "# Make it cleaner\n",
    "\n",
    "def clean_text(text):\n",
    "    if isinstance(text, list):\n",
    "        text = ' '.join(text)\n",
    "    text = re.sub(r'http\\S+', '', text)\n",
    "    text = re.sub(r'[^a-zA-Z\\s]', '', text)\n",
    "    text = re.sub(r'\\s+', ' ', text).strip()\n",
    "    \n",
    "    return text\n",
    "\n",
    "df_2019['body'] = df_2019['body'].apply(clean_text)"
   ]
  },
  {
   "cell_type": "code",
   "execution_count": 10,
   "id": "91881cd2-6631-4f50-be7c-a399f045adb5",
   "metadata": {
    "tags": []
   },
   "outputs": [
    {
     "data": {
      "text/plain": [
       "145    Hi guys I wondering could help research projec...\n",
       "171    After get live vaccine need stay away elderly ...\n",
       "256    I posted antivaxxers I know belongs I guess ma...\n",
       "258    Sorry wrong sub I know else post My dad dying ...\n",
       "259    Hi They saying things like doubleblind studies...\n",
       "Name: body, dtype: object"
      ]
     },
     "execution_count": 10,
     "metadata": {},
     "output_type": "execute_result"
    }
   ],
   "source": [
    "df_2019['body'].head()"
   ]
  },
  {
   "cell_type": "markdown",
   "id": "0d1a1d04-49e4-44a7-b45c-abd0b82e81b0",
   "metadata": {},
   "source": [
    "## Analysis (+ Visualization)"
   ]
  },
  {
   "cell_type": "markdown",
   "id": "d97f1437-aac9-487b-a7e4-6f9cef399e38",
   "metadata": {},
   "source": [
    "- **Research Question 1** Does the *tone* of Reddit comments impact the public's inclination towards COVID-19 vaccination?\n",
    "\n",
    "For the first research question, I analyze the *sentiment and tone* of comments on Reddit posts about COVID-19 vaccines. This can involve **sentiment analysis** to determine the positive, negative, or neutral sentiment of comments. Additionally, I analyze the **sentiment distribution** and identify any *correlations* between comment tones and users' perceptions or decisions regarding vaccination."
   ]
  },
  {
   "cell_type": "markdown",
   "id": "c254f591-5c17-4151-a500-3a49de1d6e44",
   "metadata": {},
   "source": [
    "### *1-1. Sentiment Analysis*\n",
    "chose this because... it identifies the sentiment(emotion) of such text. By seeing whether the comments and captions are toned positive or negative, we can assume if Reddit positively or negatively affected the public."
   ]
  },
  {
   "cell_type": "code",
   "execution_count": 11,
   "id": "26884960-dd7b-4a41-9bd6-9fa91486cbef",
   "metadata": {
    "tags": []
   },
   "outputs": [
    {
     "name": "stdout",
     "output_type": "stream",
     "text": [
      "                                                  body  sentiment\n",
      "145  Hi guys I wondering could help research projec...     0.6597\n",
      "171  After get live vaccine need stay away elderly ...     0.9097\n",
      "256  I posted antivaxxers I know belongs I guess ma...     0.9659\n",
      "258  Sorry wrong sub I know else post My dad dying ...    -0.9287\n",
      "259  Hi They saying things like doubleblind studies...     0.7279\n"
     ]
    },
    {
     "name": "stderr",
     "output_type": "stream",
     "text": [
      "/tmp/ipykernel_3058/1694646052.py:8: SettingWithCopyWarning: \n",
      "A value is trying to be set on a copy of a slice from a DataFrame.\n",
      "Try using .loc[row_indexer,col_indexer] = value instead\n",
      "\n",
      "See the caveats in the documentation: https://pandas.pydata.org/pandas-docs/stable/user_guide/indexing.html#returning-a-view-versus-a-copy\n",
      "  df_2019['sentiment'] = df_2019['body'].apply(get_sentiment)\n"
     ]
    }
   ],
   "source": [
    "def get_sentiment(text):\n",
    "    sia = SentimentIntensityAnalyzer()\n",
    "    sentiment_scores = sia.polarity_scores(str(text))\n",
    "    sentiment_polarity = sentiment_scores['compound']\n",
    "    return sentiment_polarity\n",
    "\n",
    "# Apply sentiment analysis using the custom function\n",
    "df_2019['sentiment'] = df_2019['body'].apply(get_sentiment)\n",
    "\n",
    "# Print the sentiment analysis results for the year 2019\n",
    "print(df_2019[['body', 'sentiment']].head())"
   ]
  },
  {
   "cell_type": "markdown",
   "id": "68074320-59e4-48bb-8362-c391ae3adef1",
   "metadata": {},
   "source": [
    "### *1-2. Sentiment Distribution*\n",
    "By looking at the distribution of each sentiment(Positive, Neutral, or Negative), we can expect the possibility of influence of Reddit posts on the public's perceptions or decisions regarding COVID-19 vaccination."
   ]
  },
  {
   "cell_type": "code",
   "execution_count": 12,
   "id": "e947fabf-807a-4452-b266-06737afdc269",
   "metadata": {},
   "outputs": [
    {
     "name": "stdout",
     "output_type": "stream",
     "text": [
      "Positive count: 20\n",
      "Neutral count: 4\n",
      "Negative count: 14\n"
     ]
    }
   ],
   "source": [
    "positive_count = df_2019[df_2019['sentiment'] > 0].shape[0]\n",
    "neutral_count = df_2019[df_2019['sentiment'] == 0].shape[0]\n",
    "negative_count = df_2019[df_2019['sentiment'] < 0].shape[0]\n",
    "\n",
    "print(\"Positive count:\", positive_count)\n",
    "print(\"Neutral count:\", neutral_count)\n",
    "print(\"Negative count:\", negative_count)"
   ]
  },
  {
   "cell_type": "code",
   "execution_count": 13,
   "id": "98b9bc40-2819-43df-90c2-62e2497eb85a",
   "metadata": {
    "tags": []
   },
   "outputs": [
    {
     "data": {
      "image/png": "[encoded data removed]",
      "text/plain": [
       "<Figure size 640x480 with 1 Axes>"
      ]
     },
     "metadata": {},
     "output_type": "display_data"
    }
   ],
   "source": [
    "labels = ['Positive', 'Neutral', 'Negative']\n",
    "values = [positive_count, neutral_count, negative_count]\n",
    "colors = ['beige', 'pink', 'green']\n",
    "\n",
    "plt.bar(labels, values, color=colors)\n",
    "plt.title('Sentiment Distribution 2019')\n",
    "plt.xlabel('Sentiment')\n",
    "plt.ylabel('Count')\n",
    "\n",
    "plt.show()"
   ]
  },
  {
   "cell_type": "markdown",
   "id": "82bf7b83-c096-4405-846f-c4338e743b75",
   "metadata": {},
   "source": [
    "These results indicate that the dataset contains a mix of positive, neutral, and negative sentiments. The majority of the sentiments are either positive or negative, with a slightly higher count of positive sentiments compared to negative ones. The neutral count falls in between, representing a significant portion of the dataset."
   ]
  },
  {
   "cell_type": "markdown",
   "id": "63a16e6c-39cc-4f05-adf1-86c44855410e",
   "metadata": {},
   "source": [
    "- **Research Question 2** Does the *context* of the posts and comments influence the public's perspective on getting vaccinated?\n",
    "\n",
    "To explore the second research question, I analyze the **engagement metrics** of posts related to COVID-19 vaccines, such as upvotes, comments, and user participation(which are indicated numarically as `comms_num`). Additionally, **sentiment analysis** can help determine the overall sentiment of these discussions and identify patterns or trends in public opinions."
   ]
  },
  {
   "cell_type": "markdown",
   "id": "0fd513a6-7330-4719-a9aa-e4e384619007",
   "metadata": {},
   "source": [
    "### *2-1. Collocation Analysis*\n",
    "Collocation analysis identifies the main theme/topic about the dataset by analyzing the most used/occurred words.\n",
    "This information can be useful in understanding public opinion and sentiment, as well as the language patterns used by users."
   ]
  },
  {
   "cell_type": "code",
   "execution_count": 14,
   "id": "1a070638-06cd-4872-9ba8-67fe8d1ff5fa",
   "metadata": {
    "tags": []
   },
   "outputs": [],
   "source": [
    "def find_collocations(text, num_collocations=10):\n",
    "    text = ' '.join(df_2019['body'].astype(str))\n",
    "    tokens = nltk.word_tokenize(text)\n",
    "    bigram_measures = BigramAssocMeasures()\n",
    "    finder = BigramCollocationFinder.from_words(tokens)\n",
    "    finder.apply_freq_filter(2)\n",
    "    finder.apply_word_filter(lambda w: w.lower() in stopwords.words('english') or w in string.punctuation)\n",
    "    return finder.nbest(bigram_measures.pmi, num_collocations)"
   ]
  },
  {
   "cell_type": "code",
   "execution_count": 15,
   "id": "dcf429fb-3670-4189-ba2f-1101fd39b970",
   "metadata": {
    "tags": []
   },
   "outputs": [
    {
     "data": {
      "text/plain": [
       "[('Health', 'Service'),\n",
       " ('Hey', 'podcast'),\n",
       " ('Public', 'Health'),\n",
       " ('TT', 'skew'),\n",
       " ('across', 'brash'),\n",
       " ('anti', 'vaxxers'),\n",
       " ('come', 'across'),\n",
       " ('gastrointestinal', 'issues'),\n",
       " ('helming', 'pro'),\n",
       " ('highly', 'regarded')]"
      ]
     },
     "execution_count": 15,
     "metadata": {},
     "output_type": "execute_result"
    }
   ],
   "source": [
    "body = df_2019['body']\n",
    "\n",
    "collocations = find_collocations(body)\n",
    "collocations"
   ]
  },
  {
   "cell_type": "markdown",
   "id": "0396641e-0865-4c07-b22b-5b9fa0b9538d",
   "metadata": {},
   "source": [
    "The collocation analysis revealed several interesting patterns within the dataset. Some notable collocations include \"Health Service,\" \"Hey podcast,\" \"Public Health,\" \"TT skew,\" \"across brash,\" \"anti-vaxxers,\" \"come across,\" \"gastrointestinal issues,\" \"helming pro,\" and \"highly regarded.\" These collocations provide insights into the prevalent topics and themes discussed in the dataset. \n",
    "\n",
    "- The presence of terms like *\"Health Service\"* and *\"Public Health\"* suggests a focus on **healthcare-related discussions**, potentially related to the COVID-19 vaccine. \n",
    "\n",
    "- Other collocations such as *\"anti-vaxxers\"* indicate the presence of discussions or debates regarding **vaccine skepticism or opposition**. The term \"anti-vaxxers\" refers to individuals or groups who are against vaccinations. Its frequent occurrence as a collocation suggests a focus on discussions, opinions, or information related to vaccine skepticism or opposition. \n",
    "\n",
    "- Additionally, terms like *\"gastrointestinal issues\"* and *\"highly regarded\"* may indicate specific **concerns** or opinions expressed by the community. The collocation \"gastrointestinal issues\" implies a specific emphasis on health problems or concerns related to the digestive system."
   ]
  },
  {
   "cell_type": "markdown",
   "id": "2792b9e3-6058-438d-87d6-0f4c3513ec4a",
   "metadata": {},
   "source": [
    "## Results/Findings\n",
    "\n",
    "In conclusion, this analysis aimed to investigate the presence of vaccine myths in the data and their potential impact on the public's vaccination decisions. \n",
    "\n",
    "The sentiment analysis revealed that there is a slightly higher prevalence of positive sentiments among the examples analyzed. While this suggests a relatively more optimistic outlook, it is important to note that sentiments expressed in the dataset only reflect the perspectives of the authors and commenters. The positive sentiments observed may indicate a generally favorable perception of vaccines within the dataset. Yet, it remains uncertain whether these sentiments have directly influenced others or significantly impacted the actual vaccination numbers.\n",
    "\n",
    "The collocation analysis uncovered recurring phrases and word combinations, highlighting key topics and sentiments within the dataset. These collocations reveal discussions on health services, public health, vaccine skepticism, specific health issues, and expressions of concerns. These findings contribute to understanding the prevalent themes and language patterns in the dataset."
   ]
  },
  {
   "cell_type": "markdown",
   "id": "a8e8b3e2-709e-468f-9563-b627f926c4d3",
   "metadata": {},
   "source": [
    "However, it is essential to acknowledge the limitations of this analysis. Technology limitations may impact the accuracy of analyzing social media posts, and the dataset's representativeness is limited to the specific Reddit thread analyzed. Additionally, focusing solely on COVID-19 vaccines may introduce biases and hinder the collection of broader public opinions for a comprehensive analysis."
   ]
  },
  {
   "cell_type": "markdown",
   "id": "cc44ee80-f509-4aad-8830-4852b1b62c67",
   "metadata": {},
   "source": [
    "In summary, this analysis provides insights into the sentiments and collocations present in the dataset, but further research and consideration of the limitations are necessary to gain a comprehensive understanding of the broader impact on public perceptions and vaccination behavior."
   ]
  },
  {
   "cell_type": "markdown",
   "id": "8241d82f-940f-4b6c-be54-8a531187394f",
   "metadata": {},
   "source": [
    "## Contribution\n",
    "Yuenji Lee: 100%"
   ]
  }
 ],
 "metadata": {
  "kernelspec": {
   "display_name": "Python 3 (ipykernel)",
   "language": "python",
   "name": "python3"
  },
  "language_info": {
   "codemirror_mode": {
    "name": "ipython",
    "version": 3
   },
   "file_extension": ".py",
   "mimetype": "text/x-python",
   "name": "python",
   "nbconvert_exporter": "python",
   "pygments_lexer": "ipython3",
   "version": "3.10.9"
  }
 },
 "nbformat": 4,
 "nbformat_minor": 5
}
